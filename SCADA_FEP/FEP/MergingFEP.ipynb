{
 "cells": [
  {
   "cell_type": "code",
   "execution_count": 1,
   "metadata": {},
   "outputs": [],
   "source": [
    "import pandas as pd\n",
    "import os"
   ]
  },
  {
   "cell_type": "code",
   "execution_count": 2,
   "metadata": {},
   "outputs": [
    {
     "name": "stdout",
     "output_type": "stream",
     "text": [
      "Archivo FEP_Compiled_15-Jan.dat generado correctamente.\n"
     ]
    }
   ],
   "source": [
    "file_names = [\n",
    "    'CHANNEL.dat',\n",
    "    'RTU_DATA.dat',\n",
    "    'CHANNEL_GROUP.dat',\n",
    "    'RTU_DEFN.dat',\n",
    "    'CHANNEL_GROUP_DEFN.dat'\n",
    "]\n",
    "\n",
    "#read and concatenate each file\n",
    "compiled_content = ''\n",
    "for file_name in file_names:\n",
    "    with open(file_name, 'r') as file:\n",
    "        content = file.read()\n",
    "        compiled_content += content + '\\n'\n",
    "\n",
    "\n",
    "compiled_content = '32 FEP.DB\\n' + compiled_content\n",
    "\n",
    "\n",
    "compiled_content += '0'\n",
    "\n",
    "\n",
    "final_file_name = 'FEP_Compiled_15-Jan.dat'\n",
    "with open(final_file_name, 'w') as final_file:\n",
    "    final_file.write(compiled_content)\n",
    "\n",
    "print(f\"Archivo {final_file_name} generado correctamente.\")\n"
   ]
  },
  {
   "cell_type": "code",
   "execution_count": null,
   "metadata": {},
   "outputs": [],
   "source": []
  }
 ],
 "metadata": {
  "kernelspec": {
   "display_name": "newvenv",
   "language": "python",
   "name": "python3"
  },
  "language_info": {
   "codemirror_mode": {
    "name": "ipython",
    "version": 3
   },
   "file_extension": ".py",
   "mimetype": "text/x-python",
   "name": "python",
   "nbconvert_exporter": "python",
   "pygments_lexer": "ipython3",
   "version": "3.10.0"
  },
  "orig_nbformat": 4
 },
 "nbformat": 4,
 "nbformat_minor": 2
}
