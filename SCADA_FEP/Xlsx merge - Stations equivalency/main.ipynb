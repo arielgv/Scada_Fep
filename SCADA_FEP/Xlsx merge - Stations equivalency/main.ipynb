{
 "cells": [
  {
   "cell_type": "code",
   "execution_count": 1,
   "metadata": {},
   "outputs": [
    {
     "name": "stdout",
     "output_type": "stream",
     "text": [
      "Se van a procesar 3 archivos.\n",
      "Proceso completado. El archivo all_stations_equivalency.csv se ha generado en la carpeta Output_merge.\n"
     ]
    }
   ],
   "source": [
    "###### REQUIERE : pandas, openpyxl\n",
    "import os\n",
    "import pandas as pd\n",
    "\n",
    "####\n",
    "# Instrucciones:\n",
    "# 0. pip install pandas openpyxl\n",
    "# 1. Crear una carpeta llamada 'PreFiles' en la misma carpeta que este archivo.\n",
    "# 2. Colocar en la carpeta 'PreFiles' los archivos.xlsx que se quieran procesar.\n",
    "# 3. Ejecutar el archivo.\n",
    "# 4. Los archivos.xlsx procesados se guardarán en la carpeta 'Output_merge', con el nombre all_stations_equivalency.csv\n",
    "####\n",
    "\n",
    "\n",
    "\n",
    "carpeta_prefiles = 'PreFiles'\n",
    "\n",
    "\n",
    "columnas_esperadas = ['Point ID', 'Station', 'Pnuemonic', 'Description', 'COM', 'RTU', 'Pg', 'Status P', 'Analog P', 'Relay P', 'Value', 'Scale', 'Type', 'Helper Column', 'IP Address', 'DNPAddress', 'DNP Point', '', '']\n",
    "\n",
    "\n",
    "archivos = [archivo for archivo in os.listdir(carpeta_prefiles) if archivo.endswith('.xlsx')]\n",
    "\n",
    "\n",
    "print(f\"Se van a procesar {len(archivos)} archivos.\")\n",
    "\n",
    "\n",
    "dataframes = []\n",
    "\n",
    "\n",
    "for archivo in archivos:\n",
    "    ruta_archivo = os.path.join(carpeta_prefiles, archivo)\n",
    "    df = pd.read_excel(ruta_archivo, header=None, names=columnas_esperadas)\n",
    "    \n",
    "\n",
    "    if df.shape[1] != len(columnas_esperadas):\n",
    "        print(f\"El archivo {archivo} no tiene la estructura esperada. Se omitirá.\")\n",
    "        continue\n",
    "    \n",
    "    dataframes.append(df)\n",
    "\n",
    "df_merged = pd.concat(dataframes, ignore_index=True)\n",
    "df_merged = df_merged[pd.to_numeric(df_merged['Point ID'], errors='coerce').notna()]\n",
    "\n",
    "\n",
    "carpeta_output = 'Output_merge'\n",
    "os.makedirs(carpeta_output, exist_ok=True)\n",
    "\n",
    "outputfilename = 'all_stations_equivalency.csv'\n",
    "ruta_output = os.path.join(carpeta_output, outputfilename)\n",
    "\n",
    "df_merged.to_csv(ruta_output, index=False)\n",
    "\n",
    "print(f'Proceso completado. El archivo {outputfilename} se ha generado en la carpeta {carpeta_output}.')"
   ]
  },
  {
   "cell_type": "code",
   "execution_count": null,
   "metadata": {},
   "outputs": [],
   "source": []
  }
 ],
 "metadata": {
  "kernelspec": {
   "display_name": "venv",
   "language": "python",
   "name": "python3"
  },
  "language_info": {
   "codemirror_mode": {
    "name": "ipython",
    "version": 3
   },
   "file_extension": ".py",
   "mimetype": "text/x-python",
   "name": "python",
   "nbconvert_exporter": "python",
   "pygments_lexer": "ipython3",
   "version": "3.10.0"
  }
 },
 "nbformat": 4,
 "nbformat_minor": 2
}
