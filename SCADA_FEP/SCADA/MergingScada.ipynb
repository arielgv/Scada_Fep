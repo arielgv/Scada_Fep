{
 "cells": [
  {
   "cell_type": "code",
   "execution_count": 6,
   "metadata": {},
   "outputs": [],
   "source": [
    "import pandas as pd\n",
    "import os"
   ]
  },
  {
   "cell_type": "code",
   "execution_count": 7,
   "metadata": {},
   "outputs": [
    {
     "name": "stdout",
     "output_type": "stream",
     "text": [
      "Archivo SCADA_Finished_Fix14.dat generado correctamente.\n"
     ]
    }
   ],
   "source": [
    "file_names = [\n",
    "    'station_dat.dat',\n",
    "    'Status99.dat',\n",
    "    'Analog99.dat',\n",
    "    'ANALOG_CONFIG.dat',\n",
    "    'device_instance_dat.dat',\n",
    "    'Unit.dat'\n",
    "]\n",
    "\n",
    "# Leer el contenido de los archivos .dat y concatenarlos con saltos de línea\n",
    "compiled_content = ''\n",
    "for file_name in file_names:\n",
    "    with open(file_name, 'r') as file:\n",
    "        content = file.read()\n",
    "        compiled_content += content + '\\n'  # Agregar un salto de línea\n",
    "\n",
    "# Agregar la primera línea requerida\n",
    "compiled_content = '10 SCADA.DB\\n' + compiled_content\n",
    "\n",
    "# Agregar una línea con un 0 al final del contenido compilado\n",
    "compiled_content += '0'\n",
    "\n",
    "# Crear un archivo compilado\n",
    "final_file_name = 'SCADA_Finished_Fix14.dat'\n",
    "with open(final_file_name, 'w') as final_file:\n",
    "    final_file.write(compiled_content)\n",
    "\n",
    "print(f\"Archivo {final_file_name} generado correctamente.\")\n"
   ]
  },
  {
   "cell_type": "code",
   "execution_count": null,
   "metadata": {},
   "outputs": [],
   "source": []
  }
 ],
 "metadata": {
  "kernelspec": {
   "display_name": "newvenv",
   "language": "python",
   "name": "python3"
  },
  "language_info": {
   "codemirror_mode": {
    "name": "ipython",
    "version": 3
   },
   "file_extension": ".py",
   "mimetype": "text/x-python",
   "name": "python",
   "nbconvert_exporter": "python",
   "pygments_lexer": "ipython3",
   "version": "3.10.0"
  },
  "orig_nbformat": 4
 },
 "nbformat": 4,
 "nbformat_minor": 2
}
