{
 "cells": [
  {
   "cell_type": "code",
   "execution_count": 1,
   "metadata": {},
   "outputs": [
    {
     "name": "stdout",
     "output_type": "stream",
     "text": [
      "Archivo SCADA_Finished_Fix27.dat generado correctamente.\n"
     ]
    }
   ],
   "source": [
    "import os\n",
    "\n",
    "\n",
    "folder_name = os.path.join('SCADA_DAT_FILES')\n",
    "#SCADA_AOR_v2.dat  no es parte de los archivos generados y es incluido independientemente.\n",
    "file_names = [\n",
    "    'station_dat.dat',\n",
    "    'status_dat.dat',\n",
    "    'analog_dat.dat',\n",
    "    'analog_config_dat.dat',\n",
    "    'device_instance_dat.dat',\n",
    "    'unit_dat.dat',\n",
    "    'scale_dat.dat',\n",
    "    'SCADA_AOR_v2.dat'\n",
    "]\n",
    "\n",
    "\n",
    "compiled_content = ''\n",
    "for file_name in file_names:\n",
    "    file_path = os.path.join(folder_name, file_name)  \n",
    "    with open(file_path, 'r') as file:\n",
    "        content = file.read()\n",
    "        compiled_content += content + '\\n'  \n",
    "\n",
    "compiled_content = '10 SCADA.DB\\n' + compiled_content\n",
    "\n",
    "compiled_content += '0'\n",
    "\n",
    "final_file_name = 'SCADA_Finished_Fix27.dat'\n",
    "with open(final_file_name, 'w') as final_file:\n",
    "    final_file.write(compiled_content)\n",
    "\n",
    "print(f\"Archivo {final_file_name} generado correctamente.\")\n"
   ]
  },
  {
   "cell_type": "code",
   "execution_count": null,
   "metadata": {},
   "outputs": [],
   "source": []
  }
 ],
 "metadata": {
  "kernelspec": {
   "display_name": "newvenv",
   "language": "python",
   "name": "python3"
  },
  "language_info": {
   "codemirror_mode": {
    "name": "ipython",
    "version": 3
   },
   "file_extension": ".py",
   "mimetype": "text/x-python",
   "name": "python",
   "nbconvert_exporter": "python",
   "pygments_lexer": "ipython3",
   "version": "3.10.0"
  },
  "orig_nbformat": 4
 },
 "nbformat": 4,
 "nbformat_minor": 2
}
